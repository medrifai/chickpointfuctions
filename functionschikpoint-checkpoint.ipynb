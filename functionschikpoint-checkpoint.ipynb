{
 "cells": [
  {
   "cell_type": "code",
   "execution_count": 1,
   "id": "12d6f6e1",
   "metadata": {},
   "outputs": [
    {
     "name": "stdout",
     "output_type": "stream",
     "text": [
      "enter the first number :1\n",
      "enter the second number :23\n",
      "enter the third number :7\n"
     ]
    },
    {
     "data": {
      "text/plain": [
       "23"
      ]
     },
     "execution_count": 1,
     "metadata": {},
     "output_type": "execute_result"
    }
   ],
   "source": [
    "def maximum (a,b,c):\n",
    "    if a > b and a > c :\n",
    "        return a\n",
    "    elif b > a and b > c :\n",
    "        return b\n",
    "    return c\n",
    "maximum(int(input('enter the first number :')),int(input('enter the second number :')),int(input('enter the third number :')))"
   ]
  },
  {
   "cell_type": "code",
   "execution_count": 2,
   "id": "7e892427",
   "metadata": {},
   "outputs": [
    {
     "data": {
      "text/plain": [
       "(192, 40)"
      ]
     },
     "execution_count": 2,
     "metadata": {},
     "output_type": "execute_result"
    }
   ],
   "source": [
    "def calculation ( x,y ):\n",
    "    return x + y , x - y\n",
    "calculation(116,76)"
   ]
  },
  {
   "cell_type": "code",
   "execution_count": 9,
   "id": "565456ab",
   "metadata": {},
   "outputs": [
    {
     "name": "stdout",
     "output_type": "stream",
     "text": [
      "[504, 112]\n"
     ]
    }
   ],
   "source": [
    "L = [1,7,12,4,78,2,21,9]\n",
    "def somme (l):\n",
    "    S = 0\n",
    "    for x in l :\n",
    "        S = S + x\n",
    "    return S\n",
    "def multiplie (l):\n",
    "     M = 1\n",
    "     for x in l :\n",
    "        M = M * x\n",
    "     return M\n",
    "impair_l = [L[i] for i in range(len(L)) if i % 2 == 1]\n",
    "pair_l = [L[i] for i in range(len(L)) if i % 2 == 0]\n",
    "L1 = [multiplie(impair_l) , somme(pair_l)]\n",
    "print(L1)"
   ]
  },
  {
   "cell_type": "code",
   "execution_count": 11,
   "id": "ac4c9f42",
   "metadata": {},
   "outputs": [
    {
     "data": {
      "text/plain": [
       "'black-green-red-white-yellow'"
      ]
     },
     "execution_count": 11,
     "metadata": {},
     "output_type": "execute_result"
    }
   ],
   "source": [
    "s = \"green-red-yellow-black-white\"\n",
    "slist = sorted(s.split(\"-\"))\n",
    "\"-\".join(slist)"
   ]
  },
  {
   "cell_type": "code",
   "execution_count": 16,
   "id": "6b08cbf8",
   "metadata": {},
   "outputs": [
    {
     "name": "stdout",
     "output_type": "stream",
     "text": [
      "donner une sequence : 100,150,180\n"
     ]
    },
    {
     "data": {
      "text/plain": [
       "[18, 22, 24]"
      ]
     },
     "execution_count": 16,
     "metadata": {},
     "output_type": "execute_result"
    }
   ],
   "source": [
    "import math \n",
    "q = lambda c , h , d : math.sqrt((2*c*d)/h)\n",
    "c = 50\n",
    "h = 30\n",
    "d = input('donner une sequence : ')\n",
    "d = [int(x) for x in d.split(\",\")]\n",
    "[round(q(c , h , x)) for x in d]"
   ]
  }
 ],
 "metadata": {
  "kernelspec": {
   "display_name": "Python 3 (ipykernel)",
   "language": "python",
   "name": "python3"
  },
  "language_info": {
   "codemirror_mode": {
    "name": "ipython",
    "version": 3
   },
   "file_extension": ".py",
   "mimetype": "text/x-python",
   "name": "python",
   "nbconvert_exporter": "python",
   "pygments_lexer": "ipython3",
   "version": "3.9.7"
  }
 },
 "nbformat": 4,
 "nbformat_minor": 5
}
